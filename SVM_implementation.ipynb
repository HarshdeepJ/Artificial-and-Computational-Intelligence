{
  "nbformat": 4,
  "nbformat_minor": 0,
  "metadata": {
    "colab": {
      "private_outputs": true,
      "provenance": [],
      "authorship_tag": "ABX9TyMMRxVeduBpSbMRgP0UpfUi",
      "include_colab_link": true
    },
    "kernelspec": {
      "name": "python3",
      "display_name": "Python 3"
    },
    "language_info": {
      "name": "python"
    }
  },
  "cells": [
    {
      "cell_type": "markdown",
      "metadata": {
        "id": "view-in-github",
        "colab_type": "text"
      },
      "source": [
        "<a href=\"https://colab.research.google.com/github/HarshdeepJ/Artificial-and-Computational-Intelligence/blob/main/SVM_implementation.ipynb\" target=\"_parent\"><img src=\"https://colab.research.google.com/assets/colab-badge.svg\" alt=\"Open In Colab\"/></a>"
      ]
    },
    {
      "cell_type": "markdown",
      "source": [
        "Refered from https://xavierbourretsicotte.github.io/SVM_implementation.html"
      ],
      "metadata": {
        "id": "H_Y5rCB0pTuS"
      }
    },
    {
      "cell_type": "code",
      "source": [
        "import numpy as np\n",
        "import pandas as pd\n",
        "from matplotlib import pyplot as plt\n",
        "import seaborn as sns\n",
        "sns.set()\n",
        "\n",
        "from sklearn.svm import SVC\n",
        "from cvxopt import matrix as cvxopt_matrix\n",
        "from cvxopt import solvers as cvxopt_solvers"
      ],
      "metadata": {
        "id": "rUcFq6-FF-Nw"
      },
      "execution_count": null,
      "outputs": []
    },
    {
      "cell_type": "code",
      "source": [
        "x_neg = np.array([[1,0],[0,1]])\n",
        "y_neg = np.array([-1,-1])\n",
        "x_pos = np.array([[3,-1],[3,1]])\n",
        "y_pos = np.array([1,1])\n",
        "x1 = np.linspace(-10,10)\n",
        "x = np.vstack((np.linspace(-10,10),np.linspace(-10,10)))\n",
        "\n",
        "#Data for the next section\n",
        "X = np.vstack((x_pos, x_neg))\n",
        "y = np.concatenate((y_pos,y_neg))\n",
        "\n",
        "#Parameters guessed by inspection\n",
        "w = np.array([1,-1]).reshape(-1,1)\n",
        "b = -3\n",
        "\n",
        "#Plot\n",
        "fig = plt.figure(figsize = (10,10))\n",
        "plt.scatter(x_neg[:,0], x_neg[:,1], marker = 'x', color = 'r', label = 'Negative -1')\n",
        "plt.scatter(x_pos[:,0], x_pos[:,1], marker = 'o', color = 'b',label = 'Positive +1')\n",
        "\n",
        "plt.xlim(-5,5)\n",
        "plt.ylim(-5,5)\n",
        "plt.xticks(np.arange(-5, 5, step=1))\n",
        "plt.yticks(np.arange(-5, 5, step=1))\n",
        "\n",
        "#Labels and show\n",
        "plt.xlabel('$x_1$')\n",
        "plt.ylabel('$x_2$')\n",
        "plt.legend(loc = 'lower right')\n",
        "plt.show()"
      ],
      "metadata": {
        "id": "BTVtv9xyGEf2"
      },
      "execution_count": null,
      "outputs": []
    },
    {
      "cell_type": "code",
      "source": [
        "from cvxopt import matrix as cvxopt_matrix\n",
        "from cvxopt import solvers as cvxopt_solvers\n",
        "\n",
        "#Initializing values and computing H. Note the 1. to force to float type\n",
        "m,n = X.shape\n",
        "y = y.reshape(-1,1) * 1.\n",
        "X_dash = y * X\n",
        "H = np.dot(X_dash , X_dash.T) * 1.\n",
        "\n",
        "#Converting into cvxopt format\n",
        "P = cvxopt_matrix(H)\n",
        "q = cvxopt_matrix(-np.ones((m, 1)))\n",
        "G = cvxopt_matrix(-np.eye(m))\n",
        "h = cvxopt_matrix(np.zeros(m))\n",
        "A = cvxopt_matrix(y.reshape(1, -1))\n",
        "b = cvxopt_matrix(np.zeros(1))\n",
        "\n",
        "#Setting solver parameters (change default to decrease tolerance)\n",
        "cvxopt_solvers.options['show_progress'] = False\n",
        "cvxopt_solvers.options['abstol'] = 1e-10\n",
        "cvxopt_solvers.options['reltol'] = 1e-10\n",
        "cvxopt_solvers.options['feastol'] = 1e-10\n",
        "\n",
        "#Run solver\n",
        "sol = cvxopt_solvers.qp(P, q, G, h, A, b)\n",
        "alphas = np.array(sol['x'])\n",
        "\n",
        "alphas"
      ],
      "metadata": {
        "id": "0RpdOckqGE9x"
      },
      "execution_count": null,
      "outputs": []
    },
    {
      "cell_type": "code",
      "source": [
        "w = ((y * alphas).T @ X).reshape(-1,1)\n",
        "\n",
        "#Selecting the set of indices S corresponding to non zero parameters\n",
        "S = (alphas > 1e-4).flatten()\n",
        "\n",
        "#Computing b\n",
        "b = y[S] - np.dot(X[S], w)\n",
        "\n",
        "#Display results\n",
        "print('Alphas = ',alphas[alphas > 1e-4])\n",
        "print('w = ', w.flatten())\n",
        "print('b = ', b[0])"
      ],
      "metadata": {
        "id": "HUlP5hxTGMAt"
      },
      "execution_count": null,
      "outputs": []
    },
    {
      "cell_type": "code",
      "source": [
        "hyperplane = w\n",
        "x = np.linspace(-1,7,10)\n",
        "y_p = -(w[0]/w[1])*x - b/w[1]"
      ],
      "metadata": {
        "id": "5n-OSDPVGf-V"
      },
      "execution_count": null,
      "outputs": []
    },
    {
      "cell_type": "code",
      "source": [
        "fig = plt.figure(figsize = (10,10))\n",
        "plt.scatter(x_neg[:,0], x_neg[:,1], marker = 'x', color = 'r', label = 'Negative -1')\n",
        "plt.scatter(x_pos[:,0], x_pos[:,1], marker = 'o', color = 'b',label = 'Positive +1')\n",
        "\n",
        "plt.xlim(-5,5)\n",
        "plt.ylim(-5,5)\n",
        "plt.xticks(np.arange(-5, 5, step=1))\n",
        "plt.yticks(np.arange(-5, 5, step=1))\n",
        "\n",
        "plt.plot(x, y_p[0])\n",
        "plt.show()"
      ],
      "metadata": {
        "id": "RMFXaxY4nJrK"
      },
      "execution_count": null,
      "outputs": []
    },
    {
      "cell_type": "markdown",
      "source": [
        "# Comparing with the standard library to solve svms"
      ],
      "metadata": {
        "id": "iNQOQ40Zq6tw"
      }
    },
    {
      "cell_type": "code",
      "source": [
        "clf = SVC(C = 10, kernel = 'linear')\n",
        "clf.fit(X, y.ravel())\n",
        "\n",
        "print('w = ',clf.coef_)\n",
        "print('b = ',clf.intercept_)\n",
        "print('Indices of support vectors = ', clf.support_)\n",
        "print('Support vectors = ', clf.support_vectors_)\n",
        "print('Number of support vectors for each class = ', clf.n_support_)\n",
        "print('Coefficients of the support vector in the decision function = ', np.abs(clf.dual_coef_))"
      ],
      "metadata": {
        "id": "zWpO8tokn3D7"
      },
      "execution_count": null,
      "outputs": []
    },
    {
      "cell_type": "code",
      "source": [],
      "metadata": {
        "id": "yA511Lrnq_pB"
      },
      "execution_count": null,
      "outputs": []
    }
  ]
}