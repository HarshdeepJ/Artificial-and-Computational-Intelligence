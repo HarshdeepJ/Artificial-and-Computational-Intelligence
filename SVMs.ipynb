{
  "nbformat": 4,
  "nbformat_minor": 0,
  "metadata": {
    "colab": {
      "private_outputs": true,
      "provenance": [],
      "authorship_tag": "ABX9TyPeJb0EvBnVuDJGIh+Axux2",
      "include_colab_link": true
    },
    "kernelspec": {
      "name": "python3",
      "display_name": "Python 3"
    },
    "language_info": {
      "name": "python"
    }
  },
  "cells": [
    {
      "cell_type": "markdown",
      "metadata": {
        "id": "view-in-github",
        "colab_type": "text"
      },
      "source": [
        "<a href=\"https://colab.research.google.com/github/HarshdeepJ/Artificial-and-Computational-Intelligence/blob/main/SVMs.ipynb\" target=\"_parent\"><img src=\"https://colab.research.google.com/assets/colab-badge.svg\" alt=\"Open In Colab\"/></a>"
      ]
    },
    {
      "cell_type": "code",
      "execution_count": null,
      "metadata": {
        "id": "TNlD2xjJv5_8"
      },
      "outputs": [],
      "source": [
        "import random as rd\n",
        "import pandas as pd\n",
        "import numpy as np\n",
        "import matplotlib.pyplot as plt\n",
        "import sklearn.svm\n",
        "import sklearn.decomposition\n",
        "import sklearn.model_selection\n",
        "import sklearn.datasets"
      ]
    },
    {
      "cell_type": "code",
      "source": [
        "def get_alpha2(alpha2_old,y2,e2,e1,eta):\n",
        "\n",
        "    alpha2_new=alpha2_old+y2*(e2-e1)/eta\n",
        "\n",
        "    return alpha2_new\n",
        "\n",
        "\n",
        "#in john platts paper\n",
        "#the assumption is y=wx-b\n",
        "#but my code is based on y=wx+b\n",
        "#thats why we need to change the sign of eta\n",
        "def get_eta(k11,k22,k12):\n",
        "\n",
        "    eta=k11+k22-2*k12\n",
        "\n",
        "    return -eta\n",
        "\n",
        "\n",
        "def get_alpha1(alpha1_old,y1,y2,alpha2_old,alpha2_new):\n",
        "\n",
        "    alpha1_new=alpha1_old+y1*y2*(alpha2_old-alpha2_new)\n",
        "\n",
        "    return alpha1_new\n",
        "\n",
        "\n",
        "\n",
        "def get_b(e1,e2,y1,alpha1_new,alpha1, \\\n",
        "          k11,k12,k22,y2,alpha2_new_clipped,alpha2,b):\n",
        "\n",
        "    b1=e1+y1*(alpha1_new-alpha1)*k11+ \\\n",
        "    y2*(alpha2_new_clipped-alpha2)*k12+b\n",
        "\n",
        "    b2=e2+y1*(alpha1_new-alpha1)*k12+ \\\n",
        "    y2*(alpha2_new_clipped-alpha2)*k22+b\n",
        "\n",
        "    return b1,b2\n",
        "\n",
        "def clip_alpha2(alpha2_new,l,h):\n",
        "\n",
        "\n",
        "    if alpha2_new>h:\n",
        "        alpha2_new_clipped=h\n",
        "    elif alpha2_new<l:\n",
        "        alpha2_new_clipped=l\n",
        "    else:\n",
        "        alpha2_new_clipped=alpha2_new\n",
        "\n",
        "    return alpha2_new_clipped"
      ],
      "metadata": {
        "id": "uy_640J2P3hA"
      },
      "execution_count": null,
      "outputs": []
    },
    {
      "cell_type": "code",
      "source": [
        "def kernel(x1,x2,ktype='linear', \\\n",
        "           poly_constant=0,poly_power=1,gamma=0.5):\n",
        "\n",
        "    if ktype=='linear':\n",
        "        x_product=(np.mat(x1)*np.mat(x2).T).tolist()[0][0]\n",
        "    elif ktype=='polynomial':\n",
        "        projection=np.mat(x1)*np.mat(x2).T\n",
        "        x_product=((x1.T*x2+poly_constant)**poly_power).tolist()[0][0]\n",
        "    else:\n",
        "        projection=np.mat([i-j for j in x1 for i in x2]).reshape(len(x1), \\\n",
        "                                                           len(x2))\n",
        "        x_product=np.exp(-1*gamma*(np.linalg.norm(projection))**2)\n",
        "\n",
        "    return x_product"
      ],
      "metadata": {
        "id": "xydvWIhKP8AK"
      },
      "execution_count": null,
      "outputs": []
    },
    {
      "cell_type": "code",
      "source": [
        "#the main routine in the original paper\n",
        "def train(x_train,y_train,c=10,**kwargs):\n",
        "    numchanged=0\n",
        "    examineall=True\n",
        "    alphas=list(np.zeros(len(x_train)))\n",
        "    b=0\n",
        "\n",
        "    #this is crucial\n",
        "    #without initial value\n",
        "    #everything will stay at 0\n",
        "    errors=list(np.multiply(y_train,-1))\n",
        "\n",
        "\n",
        "    while numchanged>0 or examineall:\n",
        "        numchanged=0\n",
        "        if examineall:\n",
        "            for i in range(len(x_train)):\n",
        "                output,alphas,b=examine_example(i, \\\n",
        "                                            x_train, \\\n",
        "                                            y_train, \\\n",
        "                                            b, \\\n",
        "                                            alphas,errors, \\\n",
        "                                            constant=c, \\\n",
        "                                            **kwargs)\n",
        "                numchanged+=output\n",
        "\n",
        "        else:\n",
        "            for i in range(len(x_train)):\n",
        "                if alphas[i]!=0 and alphas[i]!=c:\n",
        "                    output,alphas,b=examine_example(i, \\\n",
        "                                            x_train, \\\n",
        "                                            y_train, \\\n",
        "                                            b, \\\n",
        "                                            alphas,errors, \\\n",
        "                                            constant=c, \\\n",
        "                                            **kwargs)\n",
        "                    numchanged+=output\n",
        "\n",
        "        if examineall==True:\n",
        "            examineall=False\n",
        "        else:\n",
        "            if numchanged==0:\n",
        "                examineall==True\n",
        "\n",
        "    return alphas,b"
      ],
      "metadata": {
        "id": "hNzWX_yExHC2"
      },
      "execution_count": null,
      "outputs": []
    },
    {
      "cell_type": "code",
      "source": [
        "def examine_example(i,x_train,y_train,b, \\\n",
        "                    alphas,errors,constant, \\\n",
        "                    tol=0.005, \\\n",
        "                    **kwargs):\n",
        "\n",
        "    y2=y_train[i]\n",
        "    alpha2=alphas[i]\n",
        "    e2=errors[i]\n",
        "    support_vector=[]\n",
        "    output=0\n",
        "\n",
        "    r2=e2*y2\n",
        "\n",
        "    for idn in range(len(alphas)):\n",
        "        if alphas[idn]!=0 and alphas[idn]!=constant:\n",
        "            support_vector.append(idn)\n",
        "\n",
        "\n",
        "    if (r2<-tol and alpha2<constant) or \\\n",
        "    (r2>tol and alpha2>0):\n",
        "        if len(support_vector) > 1:\n",
        "\n",
        "            if e2>0:\n",
        "                crap,j=second_heuristic(i,alphas,y_train, \\\n",
        "                                         x_train,b,errors)\n",
        "            if e2<0:\n",
        "                j,crap=second_heuristic(i,alphas,y_train, \\\n",
        "                                         x_train,b,errors)\n",
        "\n",
        "            result,b,alphas,errors=takestep(j,i, \\\n",
        "                                              alphas,y_train, \\\n",
        "                                              x_train,b, \\\n",
        "                                              constant,errors, \\\n",
        "                                             **kwargs)\n",
        "            if result:\n",
        "                output=1\n",
        "                return output,alphas,b\n",
        "\n",
        "\n",
        "            sampler=rd.sample(support_vector,len(support_vector))\n",
        "            for l in sampler:\n",
        "                result,b,alphas,errors=takestep(l,i, \\\n",
        "                                              alphas,y_train, \\\n",
        "                                              x_train,b, \\\n",
        "                                              constant,errors, \\\n",
        "                                             **kwargs)\n",
        "                if result:\n",
        "                    output=1\n",
        "                    return output,alphas,b\n",
        "\n",
        "        sampling=rd.sample(list(np.arange(len(alphas))),len(alphas))\n",
        "        for m in sampling:\n",
        "            result,b,alphas,errors=takestep(m,i, \\\n",
        "                                              alphas,y_train, \\\n",
        "                                              x_train,b, \\\n",
        "                                              constant,errors, \\\n",
        "                                             **kwargs)\n",
        "            if result:\n",
        "                output=1\n",
        "                return output,alphas,b\n",
        "\n",
        "    return output,alphas,b\n",
        "\n",
        "\n",
        "\n",
        "def second_heuristic(i,alphas,y_train, \\\n",
        "                     x_train,b,errors):\n",
        "\n",
        "    e_list=[errors[k] for k in range(len(x_train)) if k!=i]\n",
        "\n",
        "    maxval=e_list.index(max(e_list))\n",
        "    minval=e_list.index(min(e_list))\n",
        "\n",
        "    return maxval,minval\n"
      ],
      "metadata": {
        "id": "srN3MWpzR29G"
      },
      "execution_count": null,
      "outputs": []
    },
    {
      "cell_type": "code",
      "source": [
        "def takestep(idn1,idn2,alphas,y_train, \\\n",
        "             x_train,b,constant,errors, \\\n",
        "             eps=0.001,**kwargs):\n",
        "\n",
        "    result=False\n",
        "\n",
        "\n",
        "    if idn1==idn2:\n",
        "        return result,b,alphas,errors\n",
        "\n",
        "    alpha1=alphas[idn1]\n",
        "    x1=x_train[idn1]\n",
        "    y1=y_train[idn1]\n",
        "    e1=errors[idn1]\n",
        "    alpha2=alphas[idn2]\n",
        "    x2=x_train[idn2]\n",
        "    y2=y_train[idn2]\n",
        "    e2=errors[idn2]\n",
        "\n",
        "    s=y1*y2\n",
        "\n",
        "    if y1!=y2:\n",
        "        l=max(0,alpha2-alpha1)\n",
        "        h=min(constant,constant-alpha1+alpha2)\n",
        "    else:\n",
        "        l=max(0,alpha1+alpha2-constant)\n",
        "        h=min(constant,alpha2+alpha1)\n",
        "\n",
        "    if l==h:\n",
        "        return result,b,alphas,errors\n",
        "\n",
        "    k11=kernel(x1,x1,**kwargs)\n",
        "    k12=kernel(x1,x2,**kwargs)\n",
        "    k22=kernel(x2,x2,**kwargs)\n",
        "\n",
        "    eta=get_eta(k11,k22,k12)\n",
        "\n",
        "    if eta<0:\n",
        "        alpha2_new=get_alpha2(alpha2,y2,e2,e1,eta)\n",
        "        alpha2_new_clipped=clip_alpha2(alpha2_new,l,h)\n",
        "    else:\n",
        "        f1=y1*(e1+b)-alpha1*kernel(x1,x1,**kwargs)+ \\\n",
        "        s*alpha2*kernel(x1,x2,**kwargs)\n",
        "\n",
        "        f2=y2*(e2+b)-s*alpha1*kernel(x1,x2,**kwargs)- \\\n",
        "        alpha2*kernel(x2,x2,**kwargs)\n",
        "\n",
        "        l1=alpha1+s*(alpha2-l)\n",
        "        h1=alpha1+s*(alpha2-h)\n",
        "\n",
        "        lobj=l1*f1+l*f2+0.5*l1*l1*kernel(x1,x1,**kwargs)+ \\\n",
        "        0.5*l*l*kernel(x2,x2,**kwargs)+ \\\n",
        "        s*l*l1*kernel(x1,x2,**kwargs)\n",
        "\n",
        "        hobj=h1*f1+h*f2+0.5*h1*h1*kernel(x1,x1,**kwargs)+ \\\n",
        "        0.5*h*h*kernel(x2,x2,**kwargs)+ \\\n",
        "        s*h*h1*kernel(x1,x2,**kwargs)\n",
        "\n",
        "        if lobj<hobj-eps:\n",
        "            alpha2_new_clipped=hobj\n",
        "        elif lobj>hobj+eps:\n",
        "            alpha2_new_clipped=lobj\n",
        "        else:\n",
        "            alpha2_new_clipped=alpha2\n",
        "\n",
        "\n",
        "    if np.abs(alpha2_new_clipped-alpha2)<eps*(alpha2_new_clipped+ \\\n",
        "                                              alpha2+eps):\n",
        "\n",
        "        return result,b,alphas,errors\n",
        "\n",
        "    alpha1_new=get_alpha1(alpha1,y1,y2,alpha2,alpha2_new_clipped)\n",
        "    b1,b2=get_b(e1,e2,y1,alpha1_new,alpha1, \\\n",
        "              k11,k12,k22,y2,alpha2_new_clipped, \\\n",
        "                alpha2,b)\n",
        "\n",
        "    if alpha1_new>0 and alpha1_new<constant:\n",
        "        b_new=b1\n",
        "    elif alpha2_new_clipped>0 and alpha2_new_clipped<constant:\n",
        "        b_new=b2\n",
        "    else:\n",
        "        b_new=(b1+b2)/2\n",
        "\n",
        "    alphas[idn1]=alpha1_new\n",
        "    alphas[idn2]=alpha2_new_clipped\n",
        "\n",
        "\n",
        "\n",
        "    for i in range(len(alphas)):\n",
        "        if i!=idn1 and i!=idn2:\n",
        "\n",
        "            errors[i]+=y1*(alpha1_new-alpha1)* \\\n",
        "            kernel(x1,x_train[i],**kwargs)+ \\\n",
        "            y2*(alpha2_new_clipped-alpha2)* \\\n",
        "            kernel(x2,x_train[i],**kwargs)+ \\\n",
        "            (b-b_new)\n",
        "\n",
        "    b=b_new\n",
        "\n",
        "    result=True\n",
        "\n",
        "    return result,b,alphas,errors\n"
      ],
      "metadata": {
        "id": "NtkN0IOdP5X1"
      },
      "execution_count": null,
      "outputs": []
    },
    {
      "cell_type": "code",
      "source": [
        "def smo(x_train,x_test,y_train,y_test,constant=10,**kwargs):\n",
        "\n",
        "    alphas,b=train(x_train,y_train,c=constant,**kwargs)\n",
        "\n",
        "    forecast=[]\n",
        "\n",
        "    for j in x_test:\n",
        "        summation=0\n",
        "        for i in range(len(x_train)):\n",
        "            summation+=alphas[i]*y_train[i]*kernel(x_train[i],j)\n",
        "        forecast.append(summation)\n",
        "\n",
        "    forecast=list(np.sign(forecast))\n",
        "\n",
        "\n",
        "    return forecast,alphas"
      ],
      "metadata": {
        "id": "h6TqKxnOSCOT"
      },
      "execution_count": null,
      "outputs": []
    },
    {
      "cell_type": "code",
      "source": [
        "#calculate train and test accuracy\n",
        "def self_smo(x_train,x_test,y_train,y_test,constant=10,**kwargs):\n",
        "\n",
        "    forecast,alphas=smo(x_train,x_train,y_train,y_train,constant=constant)\n",
        "    percentage=len(pd.Series(y_train)[pd.Series(forecast)==pd.Series(y_train)])/len(y_train)\n",
        "\n",
        "    print('The alpha(s) are :', alphas)\n",
        "\n",
        "    print('\\ntrain accuracy: %.2f'%(percentage*100)+'%')\n",
        "\n",
        "    forecast,alpha=smo(x_train,x_test,y_train,y_test,constant=10)\n",
        "    percentage=len(pd.Series(y_test)[pd.Series(forecast)==pd.Series(y_test)])/len(y_test)\n",
        "\n",
        "    print('\\ntest accuracy: %.2f'%(percentage*100)+'%')\n",
        "    return alphas\n"
      ],
      "metadata": {
        "id": "junWEW46Ubf3"
      },
      "execution_count": null,
      "outputs": []
    },
    {
      "cell_type": "code",
      "source": [
        "def sklearn_svm(x_train,x_test,y_train,y_test,constant=10,**kwargs):\n",
        "\n",
        "    m=sklearn.svm.SVC(kernel='linear', C=constant).fit(x_train,y_train)\n",
        "\n",
        "    percentage=m.score(x_train,y_train)\n",
        "    print('\\ntrain accuracy: %.2f'%(percentage*100)+'%')\n",
        "\n",
        "    percentage=m.score(x_test,y_test)\n",
        "    print('\\ntest accuracy: %.2f'%(percentage*100)+'%')"
      ],
      "metadata": {
        "id": "LZum2WCtSJoC"
      },
      "execution_count": null,
      "outputs": []
    },
    {
      "cell_type": "code",
      "source": [
        "data = {\"x1\":[0,1,3,3,-1,5],\"x2\":[1,0,-1,1,1,3],\"y\":[-1,-1,1,1,-1,1]}\n",
        "df = pd.DataFrame(data)\n",
        "df"
      ],
      "metadata": {
        "id": "jFdhbFlISdYl"
      },
      "execution_count": null,
      "outputs": []
    },
    {
      "cell_type": "code",
      "source": [],
      "metadata": {
        "id": "v_eor1kUUBah"
      },
      "execution_count": null,
      "outputs": []
    },
    {
      "cell_type": "code",
      "source": [
        "x=[[x1[i].item(),x2[i].item()] for i in range(len(df))]"
      ],
      "metadata": {
        "id": "MYyJjvSnT8P_"
      },
      "execution_count": null,
      "outputs": []
    },
    {
      "cell_type": "code",
      "source": [
        "x1 = df['x1']\n",
        "x2 = df['x2']\n",
        "x"
      ],
      "metadata": {
        "id": "ItdSz2S5UNeJ"
      },
      "execution_count": null,
      "outputs": []
    },
    {
      "cell_type": "code",
      "source": [
        "x"
      ],
      "metadata": {
        "id": "jLBIt112WrI2"
      },
      "execution_count": null,
      "outputs": []
    },
    {
      "cell_type": "code",
      "source": [
        "y=df['y'].tolist()"
      ],
      "metadata": {
        "id": "9YPNZ_P1THp4"
      },
      "execution_count": null,
      "outputs": []
    },
    {
      "cell_type": "code",
      "source": [
        "df.reset_index(drop=True,inplace=True)"
      ],
      "metadata": {
        "id": "b-1PoWfkTOns"
      },
      "execution_count": null,
      "outputs": []
    },
    {
      "cell_type": "code",
      "source": [
        "x_train= [[0, 1], [1, 0], [3, 1], [3, -1]]\n",
        "x_test = [[-1,1],[4,1]]\n",
        "y_train = [-1, -1, 1, 1]\n",
        "y_test=[-1,1]\n",
        "print(x_train, y_train)"
      ],
      "metadata": {
        "id": "PLnVE-7PTWmy"
      },
      "execution_count": null,
      "outputs": []
    },
    {
      "cell_type": "code",
      "source": [
        "alphas = self_smo(x_train,x_test,y_train,y_test,constant=10)\n"
      ],
      "metadata": {
        "id": "b4ggz-_0TXpz"
      },
      "execution_count": null,
      "outputs": []
    },
    {
      "cell_type": "code",
      "source": [
        "type(alphas)"
      ],
      "metadata": {
        "id": "z637-bIxo6Bs"
      },
      "execution_count": null,
      "outputs": []
    },
    {
      "cell_type": "code",
      "source": [
        "w1 = 0\n",
        "w2 = 0\n",
        "b = 0\n",
        "for i in range(len(alphas)):\n",
        "  w1+=x_train[i][0]*alphas[i]*y_train[i]\n",
        "  w2+=x_train[i][1]*alphas[i]*y_train[i]\n",
        "  b = alphas[i]*y_train[i]\n",
        "\n",
        "print(w1,w2,b)"
      ],
      "metadata": {
        "id": "8MRsxZfbUUpG"
      },
      "execution_count": null,
      "outputs": []
    },
    {
      "cell_type": "code",
      "source": [
        "x_train"
      ],
      "metadata": {
        "id": "D1Bwpnd5ptMX"
      },
      "execution_count": null,
      "outputs": []
    },
    {
      "cell_type": "code",
      "source": [
        "hyperplane = np.array([[w1, w2, b]])\n",
        "x = np.linspace(-1,7,10)\n",
        "y = -(w1/w2)*x - b/w2\n",
        "plt.plot(x,y)\n",
        "for i in range(len(x_train)):\n",
        "  plt.scatter(x_train[i][0],x_train[i][1])\n",
        "plt.show()"
      ],
      "metadata": {
        "id": "hmdXRqOKolfd"
      },
      "execution_count": null,
      "outputs": []
    },
    {
      "cell_type": "code",
      "source": [
        "m=sklearn.svm.SVC(kernel='linear', C=10).fit(x_train,y_train)"
      ],
      "metadata": {
        "id": "QvYZ3axappl4"
      },
      "execution_count": null,
      "outputs": []
    },
    {
      "cell_type": "code",
      "source": [
        "alphas = np.abs(m.dual_coef_)"
      ],
      "metadata": {
        "id": "73lnIEqLqsLo"
      },
      "execution_count": null,
      "outputs": []
    },
    {
      "cell_type": "code",
      "source": [
        "alphas"
      ],
      "metadata": {
        "id": "MFHmZmDOq0Uj"
      },
      "execution_count": null,
      "outputs": []
    },
    {
      "cell_type": "code",
      "source": [],
      "metadata": {
        "id": "4lsanmRDq1A7"
      },
      "execution_count": null,
      "outputs": []
    }
  ]
}